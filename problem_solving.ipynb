{
  "nbformat": 4,
  "nbformat_minor": 0,
  "metadata": {
    "colab": {
      "provenance": [],
      "toc_visible": true,
      "authorship_tag": "ABX9TyOealK+KrrTe3qBIekJnq+m",
      "include_colab_link": true
    },
    "kernelspec": {
      "name": "python3",
      "display_name": "Python 3"
    },
    "language_info": {
      "name": "python"
    }
  },
  "cells": [
    {
      "cell_type": "markdown",
      "metadata": {
        "id": "view-in-github",
        "colab_type": "text"
      },
      "source": [
        "<a href=\"https://colab.research.google.com/github/nilampatil26/nilam-python/blob/main/problem_solving.ipynb\" target=\"_parent\"><img src=\"https://colab.research.google.com/assets/colab-badge.svg\" alt=\"Open In Colab\"/></a>"
      ]
    },
    {
      "cell_type": "markdown",
      "source": [],
      "metadata": {
        "id": "nCPE1QgvmOkj"
      }
    },
    {
      "cell_type": "code",
      "source": [
        "# for better printing - https://stackoverflow.com/a/16430216\n",
        "import textwrap\n"
      ],
      "metadata": {
        "id": "VOXBiA3pWoxX"
      },
      "execution_count": null,
      "outputs": []
    },
    {
      "cell_type": "markdown",
      "source": [
        "**Prime Numbers function**"
      ],
      "metadata": {
        "id": "rokjS6t8dDaO"
      }
    },
    {
      "cell_type": "code",
      "source": [
        "def prime_numbers(input_number):\n",
        "  # 2 is prime number\n",
        "  prime = [2]\n",
        "  n = int(input_number)\n",
        "\n",
        "  if n > 10000:\n",
        "    raise Exception(\"Put number upto 10000 only\")\n",
        "\n",
        "  # start to check from 3 onwards\n",
        "  for i in range(3,n):\n",
        "    # set i as prime number\n",
        "    is_i_prime = True\n",
        "\n",
        "    # check if i is divisible by any other number than itself\n",
        "    # loop should start from 2. since every number is divisible by 1\n",
        "    for k in range(2,i):\n",
        "      # if number is divisible by any number till i then it is not prime.\n",
        "      if i%k == 0:\n",
        "        is_i_prime = False\n",
        "        break\n",
        "    if is_i_prime is True:\n",
        "      prime.append(i)\n",
        "  return prime"
      ],
      "metadata": {
        "id": "iUhAbrihWy5t"
      },
      "execution_count": null,
      "outputs": []
    },
    {
      "cell_type": "code",
      "source": [
        "# @title calculate prime numbers { display-mode: \"both\" }\n",
        "input_number = 203 # @param {type:\"slider\", min:2, max:10000, step:1}\n",
        "prime = prime_numbers(input_number)\n",
        "\n",
        "\n",
        "print(textwrap.fill(f\"There are {len(prime)} prime numbers upto {input_number}.\"))\n",
        "print(f\"\\n\")\n",
        "print(textwrap.fill(f\"List of Prime numbers: {prime}\"))\n"
      ],
      "metadata": {
        "colab": {
          "base_uri": "https://localhost:8080/"
        },
        "id": "tdnm8vCAiXl0",
        "outputId": "35c9900c-db46-4454-cfe5-74e15b6a0b0d"
      },
      "execution_count": null,
      "outputs": [
        {
          "output_type": "stream",
          "name": "stdout",
          "text": [
            "There are 46 prime numbers upto 203.\n",
            "\n",
            "\n",
            "List of Prime numbers: [2, 3, 5, 7, 11, 13, 17, 19, 23, 29, 31, 37,\n",
            "41, 43, 47, 53, 59, 61, 67, 71, 73, 79, 83, 89, 97, 101, 103, 107,\n",
            "109, 113, 127, 131, 137, 139, 149, 151, 157, 163, 167, 173, 179, 181,\n",
            "191, 193, 197, 199]\n"
          ]
        }
      ]
    }
  ]
}