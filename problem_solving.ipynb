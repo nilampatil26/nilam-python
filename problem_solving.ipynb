{
  "nbformat": 4,
  "nbformat_minor": 0,
  "metadata": {
    "colab": {
      "provenance": [],
      "toc_visible": true,
      "authorship_tag": "ABX9TyNhNQ4pyVCs9UadvstJNIkD",
      "include_colab_link": true
    },
    "kernelspec": {
      "name": "python3",
      "display_name": "Python 3"
    },
    "language_info": {
      "name": "python"
    }
  },
  "cells": [
    {
      "cell_type": "markdown",
      "metadata": {
        "id": "view-in-github",
        "colab_type": "text"
      },
      "source": [
        "<a href=\"https://colab.research.google.com/github/nilampatil26/nilam-python/blob/main/problem_solving.ipynb\" target=\"_parent\"><img src=\"https://colab.research.google.com/assets/colab-badge.svg\" alt=\"Open In Colab\"/></a>"
      ]
    },
    {
      "cell_type": "markdown",
      "source": [
        "Problem Solving Notebook"
      ],
      "metadata": {
        "id": "nCPE1QgvmOkj"
      }
    },
    {
      "cell_type": "code",
      "source": [
        "# for better printing - https://stackoverflow.com/a/16430216\n",
        "import textwrap\n"
      ],
      "metadata": {
        "id": "VOXBiA3pWoxX"
      },
      "execution_count": 1,
      "outputs": []
    },
    {
      "cell_type": "markdown",
      "source": [
        "**Prime Numbers function**"
      ],
      "metadata": {
        "id": "rokjS6t8dDaO"
      }
    },
    {
      "cell_type": "code",
      "source": [
        "def prime_numbers(input_number):\n",
        "  # 2 is an even prime number\n",
        "  prime = [2]\n",
        "  n = int(input_number)\n",
        "\n",
        "  if n > 10000:\n",
        "    # raise Exception(\"Put number upto 10000 only\")\n",
        "    pass\n",
        "\n",
        "  # start to check from 3 onwards\n",
        "  for i in range(3,n):\n",
        "    # set i as prime number\n",
        "    is_i_prime = True\n",
        "\n",
        "    # check if i is divisible by any other number than itself\n",
        "    # loop should start from 2. since every number is divisible by 1\n",
        "    for k in range(2,i):\n",
        "      # if number is divisible by any number till i then it is not a prime.\n",
        "      if i%k == 0:\n",
        "        is_i_prime = False\n",
        "        break\n",
        "      if k*k > i:\n",
        "        break\n",
        "    if is_i_prime is True:\n",
        "      prime.append(i)\n",
        "  return prime"
      ],
      "metadata": {
        "id": "iUhAbrihWy5t"
      },
      "execution_count": 14,
      "outputs": []
    },
    {
      "cell_type": "code",
      "source": [
        "# @title calculate prime numbers { display-mode: \"both\" }\n",
        "input_number = 1778 # @param {type:\"slider\", min:2, max:10000, step:1}\n",
        "prime = prime_numbers(input_number)\n",
        "\n",
        "\n",
        "print(textwrap.fill(f\"There are {len(prime)} prime numbers upto {input_number}.\"))\n",
        "print(f\"\\n\")\n",
        "print(textwrap.fill(f\"List of Prime numbers: {prime}\"))\n"
      ],
      "metadata": {
        "colab": {
          "base_uri": "https://localhost:8080/"
        },
        "id": "tdnm8vCAiXl0",
        "outputId": "24788431-086d-48c2-fd28-02742356e93f"
      },
      "execution_count": 13,
      "outputs": [
        {
          "output_type": "stream",
          "name": "stdout",
          "text": [
            "There are 275 prime numbers upto 1778.\n",
            "\n",
            "\n",
            "List of Prime numbers: [2, 3, 5, 7, 11, 13, 17, 19, 23, 29, 31, 37,\n",
            "41, 43, 47, 53, 59, 61, 67, 71, 73, 79, 83, 89, 97, 101, 103, 107,\n",
            "109, 113, 127, 131, 137, 139, 149, 151, 157, 163, 167, 173, 179, 181,\n",
            "191, 193, 197, 199, 211, 223, 227, 229, 233, 239, 241, 251, 257, 263,\n",
            "269, 271, 277, 281, 283, 293, 307, 311, 313, 317, 331, 337, 347, 349,\n",
            "353, 359, 367, 373, 379, 383, 389, 397, 401, 409, 419, 421, 431, 433,\n",
            "439, 443, 449, 457, 461, 463, 467, 479, 487, 491, 499, 503, 509, 521,\n",
            "523, 541, 547, 557, 563, 569, 571, 577, 587, 593, 599, 601, 607, 613,\n",
            "617, 619, 631, 641, 643, 647, 653, 659, 661, 673, 677, 683, 691, 701,\n",
            "709, 719, 727, 733, 739, 743, 751, 757, 761, 769, 773, 787, 797, 809,\n",
            "811, 821, 823, 827, 829, 839, 853, 857, 859, 863, 877, 881, 883, 887,\n",
            "907, 911, 919, 929, 937, 941, 947, 953, 967, 971, 977, 983, 991, 997,\n",
            "1009, 1013, 1019, 1021, 1031, 1033, 1039, 1049, 1051, 1061, 1063,\n",
            "1069, 1087, 1091, 1093, 1097, 1103, 1109, 1117, 1123, 1129, 1151,\n",
            "1153, 1163, 1171, 1181, 1187, 1193, 1201, 1213, 1217, 1223, 1229,\n",
            "1231, 1237, 1249, 1259, 1277, 1279, 1283, 1289, 1291, 1297, 1301,\n",
            "1303, 1307, 1319, 1321, 1327, 1361, 1367, 1373, 1381, 1399, 1409,\n",
            "1423, 1427, 1429, 1433, 1439, 1447, 1451, 1453, 1459, 1471, 1481,\n",
            "1483, 1487, 1489, 1493, 1499, 1511, 1523, 1531, 1543, 1549, 1553,\n",
            "1559, 1567, 1571, 1579, 1583, 1597, 1601, 1607, 1609, 1613, 1619,\n",
            "1621, 1627, 1637, 1657, 1663, 1667, 1669, 1693, 1697, 1699, 1709,\n",
            "1721, 1723, 1733, 1741, 1747, 1753, 1759, 1777]\n"
          ]
        }
      ]
    }
  ]
}